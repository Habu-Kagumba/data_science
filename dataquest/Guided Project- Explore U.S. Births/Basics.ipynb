{
 "cells": [
  {
   "cell_type": "code",
   "execution_count": 3,
   "metadata": {
    "collapsed": false,
    "deletable": true,
    "editable": true
   },
   "outputs": [
    {
     "data": {
      "text/plain": [
       "['year,month,date_of_month,day_of_week,births',\n",
       " '1994,1,1,6,8096',\n",
       " '1994,1,2,7,7772',\n",
       " '1994,1,3,1,10142',\n",
       " '1994,1,4,2,11248',\n",
       " '1994,1,5,3,11053',\n",
       " '1994,1,6,4,11406',\n",
       " '1994,1,7,5,11251',\n",
       " '1994,1,8,6,8653',\n",
       " '1994,1,9,7,7910']"
      ]
     },
     "execution_count": 3,
     "metadata": {},
     "output_type": "execute_result"
    }
   ],
   "source": [
    "births = open('US_births_1994-2003_CDC_NCHS.csv').read().split('\\n')\n",
    "births[0:10]"
   ]
  },
  {
   "cell_type": "code",
   "execution_count": null,
   "metadata": {
    "collapsed": false,
    "deletable": true,
    "editable": true
   },
   "outputs": [],
   "source": [
    "def read_csv(csv_file):\n",
    "    string_list = open(csv_file).read().split('\\n')[1:]\n",
    "    final_list = [[int(x) for x in y.split(',')] for y in string_list]   \n",
    "    return(final_list)\n",
    "\n",
    "cdc_list = read_csv('US_births_1994-2003_CDC_NCHS.csv')\n",
    "cdc_list[0:10]"
   ]
  },
  {
   "cell_type": "code",
   "execution_count": null,
   "metadata": {
    "collapsed": false,
    "deletable": true,
    "editable": true
   },
   "outputs": [],
   "source": [
    "def month_births(birth_lists):\n",
    "    bom = {}\n",
    "    \n",
    "    for l in birth_lists:\n",
    "        month = l[1]\n",
    "        births = l[len(l) - 1]\n",
    "#         bom[month] = bom.get(month, births) + births\n",
    "        if month in bom:\n",
    "            bom[month] += births\n",
    "        else:\n",
    "            bom[month] = births\n",
    "    \n",
    "    return bom\n",
    "\n",
    "cdc_month_births = month_births(cdc_list)\n",
    "cdc_month_births"
   ]
  },
  {
   "cell_type": "code",
   "execution_count": null,
   "metadata": {
    "collapsed": false,
    "deletable": true,
    "editable": true
   },
   "outputs": [],
   "source": [
    "def dow_births(births):\n",
    "    b_dow = {}\n",
    "    \n",
    "    for bl in births:\n",
    "        dow = bl[3]\n",
    "        bs = bl[len(bl) - 1]\n",
    "        if dow in b_dow:\n",
    "            b_dow[dow] += bs\n",
    "        else:\n",
    "            b_dow[dow] = bs\n",
    "    return b_dow\n",
    "\n",
    "\n",
    "cdc_day_births = dow_births(cdc_list)\n",
    "cdc_day_births"
   ]
  },
  {
   "cell_type": "code",
   "execution_count": null,
   "metadata": {
    "collapsed": true
   },
   "outputs": [],
   "source": []
  }
 ],
 "metadata": {
  "anaconda-cloud": {},
  "kernelspec": {
   "display_name": "Python 3",
   "language": "python",
   "name": "python3"
  },
  "language_info": {
   "codemirror_mode": {
    "name": "ipython",
    "version": 3
   },
   "file_extension": ".py",
   "mimetype": "text/x-python",
   "name": "python",
   "nbconvert_exporter": "python",
   "pygments_lexer": "ipython3",
   "version": "3.5.2"
  }
 },
 "nbformat": 4,
 "nbformat_minor": 1
}
